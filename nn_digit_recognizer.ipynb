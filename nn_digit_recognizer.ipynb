{
 "cells": [
  {
   "cell_type": "code",
   "execution_count": 6,
   "metadata": {},
   "outputs": [],
   "source": [
    "import numpy as np\n",
    "import os\n",
    "import time\n",
    "\n",
    "os.environ[\"KERAS_BACKEND\"] = \"plaidml.keras.backend\""
   ]
  },
  {
   "cell_type": "code",
   "execution_count": 7,
   "metadata": {},
   "outputs": [],
   "source": [
    "import keras\n",
    "import keras.applications as kapp\n",
    "from keras.datasets import mnist\n",
    "\n"
   ]
  },
  {
   "cell_type": "code",
   "execution_count": 9,
   "metadata": {},
   "outputs": [
    {
     "name": "stdout",
     "output_type": "stream",
     "text": [
      "Downloading data from https://s3.amazonaws.com/img-datasets/mnist.npz\n",
      "11493376/11490434 [==============================] - 4s 0us/step\n"
     ]
    }
   ],
   "source": [
    "(train_images,train_labels),(test_images,test_labels) = mnist.load_data()"
   ]
  },
  {
   "cell_type": "code",
   "execution_count": 10,
   "metadata": {},
   "outputs": [
    {
     "data": {
      "text/plain": [
       "(60000, 28, 28)"
      ]
     },
     "execution_count": 10,
     "metadata": {},
     "output_type": "execute_result"
    }
   ],
   "source": [
    "train_images.shape"
   ]
  },
  {
   "cell_type": "code",
   "execution_count": 13,
   "metadata": {},
   "outputs": [],
   "source": [
    "from keras import models\n",
    "from keras import layers\n",
    "network = models.Sequential()"
   ]
  },
  {
   "cell_type": "code",
   "execution_count": 14,
   "metadata": {},
   "outputs": [],
   "source": [
    "network.add(layers.Dense(512,activation = 'relu',input_shape = (28*28,)))\n",
    "network.add(layers.Dense(10,activation = 'softmax'))"
   ]
  },
  {
   "cell_type": "code",
   "execution_count": 15,
   "metadata": {},
   "outputs": [],
   "source": [
    "network.compile(optimizer='rmsprop',loss='categorical_crossentropy',metrics=['accuracy'])"
   ]
  },
  {
   "cell_type": "code",
   "execution_count": 17,
   "metadata": {},
   "outputs": [],
   "source": [
    "train_images=train_images.reshape((60000,28*28))\n",
    "train_images=train_images.astype('float32')/255\n",
    "\n",
    "test_images=test_images.reshape((10000,28*28))\n",
    "test_images=test_images.astype('float32')/255"
   ]
  },
  {
   "cell_type": "code",
   "execution_count": 19,
   "metadata": {},
   "outputs": [],
   "source": [
    "from keras.utils import to_categorical\n",
    "\n",
    "train_labels = to_categorical(train_labels)\n",
    "test_label = to_categorical(test_labels)"
   ]
  },
  {
   "cell_type": "code",
   "execution_count": 21,
   "metadata": {},
   "outputs": [
    {
     "name": "stdout",
     "output_type": "stream",
     "text": [
      "Epoch 1/20\n",
      "60000/60000 [==============================] - 18s 299us/step - loss: 0.3017 - acc: 0.9134\n",
      "Epoch 2/20\n",
      "60000/60000 [==============================] - 16s 272us/step - loss: 0.2868 - acc: 0.9177\n",
      "Epoch 3/20\n",
      "60000/60000 [==============================] - 16s 266us/step - loss: 0.2735 - acc: 0.9202\n",
      "Epoch 4/20\n",
      "60000/60000 [==============================] - 16s 267us/step - loss: 0.2614 - acc: 0.9243\n",
      "Epoch 5/20\n",
      "60000/60000 [==============================] - 16s 260us/step - loss: 0.2500 - acc: 0.9275\n",
      "Epoch 6/20\n",
      "60000/60000 [==============================] - 15s 257us/step - loss: 0.2395 - acc: 0.9307\n",
      "Epoch 7/20\n",
      "60000/60000 [==============================] - 15s 255us/step - loss: 0.2289 - acc: 0.9340\n",
      "Epoch 8/20\n",
      "60000/60000 [==============================] - 15s 254us/step - loss: 0.2194 - acc: 0.9366\n",
      "Epoch 9/20\n",
      "60000/60000 [==============================] - 15s 255us/step - loss: 0.2097 - acc: 0.9398\n",
      "Epoch 10/20\n",
      "60000/60000 [==============================] - 15s 256us/step - loss: 0.2008 - acc: 0.9419\n",
      "Epoch 11/20\n",
      "60000/60000 [==============================] - 15s 258us/step - loss: 0.1926 - acc: 0.9448\n",
      "Epoch 12/20\n",
      "60000/60000 [==============================] - 15s 253us/step - loss: 0.1846 - acc: 0.9470\n",
      "Epoch 13/20\n",
      "60000/60000 [==============================] - 15s 254us/step - loss: 0.1771 - acc: 0.9487\n",
      "Epoch 14/20\n",
      "60000/60000 [==============================] - 15s 255us/step - loss: 0.1701 - acc: 0.9509\n",
      "Epoch 15/20\n",
      "60000/60000 [==============================] - 15s 256us/step - loss: 0.1636 - acc: 0.9528\n",
      "Epoch 16/20\n",
      "60000/60000 [==============================] - 15s 255us/step - loss: 0.1572 - acc: 0.9550\n",
      "Epoch 17/20\n",
      "60000/60000 [==============================] - 15s 256us/step - loss: 0.1516 - acc: 0.9565\n",
      "Epoch 18/20\n",
      "60000/60000 [==============================] - 15s 255us/step - loss: 0.1461 - acc: 0.9580\n",
      "Epoch 19/20\n",
      "60000/60000 [==============================] - 15s 255us/step - loss: 0.1408 - acc: 0.9592\n",
      "Epoch 20/20\n",
      "60000/60000 [==============================] - 15s 255us/step - loss: 0.1360 - acc: 0.9608\n"
     ]
    },
    {
     "data": {
      "text/plain": [
       "<keras.callbacks.History at 0x1aae78b048>"
      ]
     },
     "execution_count": 21,
     "metadata": {},
     "output_type": "execute_result"
    }
   ],
   "source": [
    "network.fit(train_images,train_labels,epochs=20,batch_size=128)"
   ]
  },
  {
   "cell_type": "code",
   "execution_count": 24,
   "metadata": {},
   "outputs": [
    {
     "name": "stdout",
     "output_type": "stream",
     "text": [
      "10000/10000 [==============================] - 6s 604us/step\n"
     ]
    }
   ],
   "source": [
    "test_loss,test_acc=network.evaluate(test_images,test_label)\n"
   ]
  },
  {
   "cell_type": "code",
   "execution_count": 25,
   "metadata": {},
   "outputs": [
    {
     "name": "stdout",
     "output_type": "stream",
     "text": [
      "test_acc: 0.9497\n"
     ]
    }
   ],
   "source": [
    "print('test_acc:',test_acc)"
   ]
  },
  {
   "cell_type": "code",
   "execution_count": null,
   "metadata": {},
   "outputs": [],
   "source": []
  }
 ],
 "metadata": {
  "kernelspec": {
   "display_name": "Python 3",
   "language": "python",
   "name": "python3"
  },
  "language_info": {
   "codemirror_mode": {
    "name": "ipython",
    "version": 3
   },
   "file_extension": ".py",
   "mimetype": "text/x-python",
   "name": "python",
   "nbconvert_exporter": "python",
   "pygments_lexer": "ipython3",
   "version": "3.6.8"
  }
 },
 "nbformat": 4,
 "nbformat_minor": 2
}
